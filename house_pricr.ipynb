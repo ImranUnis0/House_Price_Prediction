{
 "cells": [
  {
   "cell_type": "markdown",
   "metadata": {},
   "source": [
    "# House Price Project\n",
    "\n",
    "* Author : Imran Younus\n",
    "* Link : https://www.linkedin.com/in/imran-younus-031283111/"
   ]
  },
  {
   "cell_type": "code",
   "execution_count": null,
   "metadata": {},
   "outputs": [],
   "source": [
    "import pandas as pd \n",
    "import numpy as np\n",
    "import seaborn as sns\n",
    "import matplotlib.pyplot as plt\n",
    "import os\n",
    "from sklearn.model_selection import train_test_split \n",
    "from sklearn.linear_model import LinearRegression\n",
    "\n",
    "# Current working directory\n",
    "# print(os.getcwd())\n",
    "\n",
    "# load dataset\n",
    "data = pd.read_csv(\"house price data.csv\")\n",
    "print(data.head())"
   ]
  },
  {
   "cell_type": "markdown",
   "metadata": {},
   "source": [
    "# Basic EDA"
   ]
  },
  {
   "cell_type": "code",
   "execution_count": null,
   "metadata": {},
   "outputs": [],
   "source": [
    "# Basic EDA\n",
    "print(data.shape)\n",
    "print(data.info())\n",
    "print(data.describe())# Statistical summary of numeric columns"
   ]
  },
  {
   "cell_type": "code",
   "execution_count": null,
   "metadata": {},
   "outputs": [],
   "source": [
    "# Missing Values\n",
    "print(data.isnull().sum())"
   ]
  },
  {
   "cell_type": "code",
   "execution_count": null,
   "metadata": {},
   "outputs": [],
   "source": [
    "# Only numeric columns filter\n",
    "numeric_data = data.select_dtypes(include=['float64','int64'])\n",
    "print(numeric_data)"
   ]
  },
  {
   "cell_type": "code",
   "execution_count": null,
   "metadata": {},
   "outputs": [],
   "source": [
    "# Correlation Heatmap\n",
    "# Correlation matrix calculate karein\n",
    "correlation = numeric_data.corr()\n",
    "# print(correlation)\n",
    "#sns.heatmap(data.corr(), annot=True, cmap=\"coolwarm\")\n",
    "#plt.show()\n",
    "\n",
    "# Correlation of the target column 'price' with other columns\n",
    "price_correlation = correlation[\"price\"].sort_values(ascending=False)\n",
    "print(price_correlation)\n"
   ]
  },
  {
   "cell_type": "markdown",
   "metadata": {},
   "source": [
    "# Visualization"
   ]
  },
  {
   "cell_type": "code",
   "execution_count": null,
   "metadata": {},
   "outputs": [],
   "source": [
    "# Visualize the correlations with a bar plot\n",
    "price_correlation.drop(\"price\").plot(kind=\"bar\", figsize=(10, 6), color=\"skyblue\")\n",
    "plt.title(\"Correlation of Features with 'price'\")\n",
    "plt.ylabel(\"Correlation Coefficient\")\n",
    "plt.show()"
   ]
  },
  {
   "cell_type": "code",
   "execution_count": null,
   "metadata": {},
   "outputs": [],
   "source": [
    "# select the high correlation's feature with price\n",
    "\n",
    "important_features = ['price', 'sqft_living', 'sqft_above', 'bathrooms', 'bedrooms']\n",
    "\n",
    "# Sirf important columns ka data\n",
    "data_selected = data[important_features]\n",
    "\n",
    "# Output dekhein\n",
    "print(data_selected.head())"
   ]
  },
  {
   "cell_type": "markdown",
   "metadata": {},
   "source": [
    "# Scatter plot before removing outliers"
   ]
  },
  {
   "cell_type": "code",
   "execution_count": null,
   "metadata": {},
   "outputs": [],
   "source": [
    "# Plot for 'sqft_living' vs 'price'\n",
    "plt.figure(figsize=(4, 3))\n",
    "sns.scatterplot(x='sqft_living', y='price' , label='Unclean data', data=data)\n",
    "plt.title('Price vs Square Foot Living Area')\n",
    "plt.show()\n",
    "\n",
    "# Plot for 'sqft_above' vs 'price'\n",
    "plt.figure(figsize=(4, 3))\n",
    "sns.scatterplot(x='sqft_above', y='price' ,label='Unclean data', data=data)\n",
    "plt.title('Price vs  Area Square Foot Above')\n",
    "plt.show()\n",
    "\n",
    "# Plot for 'bathrooms' vs 'price'\n",
    "plt.figure(figsize=(4, 3))\n",
    "sns.scatterplot(x='bathrooms', y='price', label='Unclean data', data=data)\n",
    "plt.title('Price vs Bathrooms')\n",
    "plt.show()\n",
    "\n",
    "# Plot for 'bedrooms' vs 'price'\n",
    "plt.figure(figsize=(4, 3))\n",
    "sns.scatterplot(x='bedrooms', y='price', label='Unclean data', data=data)\n",
    "plt.title('Price vs bedrooms')\n",
    "plt.show()"
   ]
  },
  {
   "cell_type": "markdown",
   "metadata": {},
   "source": [
    "# Filter out the outliers"
   ]
  },
  {
   "cell_type": "code",
   "execution_count": 31,
   "metadata": {},
   "outputs": [
    {
     "name": "stdout",
     "output_type": "stream",
     "text": [
      "Original data shape: (4600, 18)\n",
      "Cleaned data shape: (4143, 18)\n"
     ]
    }
   ],
   "source": [
    "# Calculate Q1 (25th percentile) and Q3 (75th percentile)\n",
    "Q1 = data[['price', 'sqft_living', 'sqft_above', 'bathrooms', 'bedrooms']].quantile(0.25)\n",
    "Q3 = data[['price', 'sqft_living', 'sqft_above', 'bathrooms', 'bedrooms']].quantile(0.75)\n",
    "\n",
    "# Calculate IQR\n",
    "IQR = Q3 - Q1\n",
    "\n",
    "# Filter out the outliers\n",
    "data_no_outliers = data[~((data[['price', 'sqft_living', 'sqft_above', 'bathrooms', 'bedrooms']] < (Q1 - 1.5 * IQR)) | (data[['price', 'sqft_living', 'sqft_above', 'bathrooms', 'bedrooms']] > (Q3 + 1.5 * IQR))).any(axis=1)]\n",
    "\n",
    "# Check the shape of the cleaned data\n",
    "print(f\"Original data shape: {data.shape}\")\n",
    "print(f\"Cleaned data shape: {data_no_outliers.shape}\")"
   ]
  },
  {
   "cell_type": "markdown",
   "metadata": {},
   "source": [
    "# Scatter plot after removing outliers"
   ]
  },
  {
   "cell_type": "code",
   "execution_count": null,
   "metadata": {},
   "outputs": [],
   "source": [
    "plt.figure(figsize=(4, 3))\n",
    "sns.scatterplot(x=data_no_outliers['sqft_living'], y=data_no_outliers['price'], color='Teal', label='Cleaned Data')\n",
    "plt.title('After Removing Outliers, Square Foot Living Area')\n",
    "plt.xlabel('sqft_living')\n",
    "plt.ylabel('Price')\n",
    "plt.show()\n",
    "\n",
    "plt.figure(figsize=(4, 3))\n",
    "sns.scatterplot(x=data_no_outliers['sqft_above'], y=data_no_outliers['price'], color='Teal', label='Cleaned Data')\n",
    "plt.title('After Removing Outliers, AreaSquare Foot Above')\n",
    "plt.xlabel('sqft_above')\n",
    "plt.ylabel('Price')\n",
    "plt.show()\n",
    "\n",
    "plt.figure(figsize=(4, 3))\n",
    "sns.scatterplot(x=data_no_outliers['bathrooms'], y=data_no_outliers['price'], color='Teal', label='Cleaned Data')\n",
    "plt.title('After Removing Outliers, Bathrooms')\n",
    "plt.xlabel('bathrooms')\n",
    "plt.ylabel('Price')\n",
    "plt.show()\n",
    "\n",
    "\n",
    "plt.figure(figsize=(4, 3))\n",
    "sns.scatterplot(x=data_no_outliers['bedrooms'], y=data_no_outliers['price'], color='Teal', label='Cleaned Data')\n",
    "plt.title('After Removing Outliers, Bedrooms')\n",
    "plt.xlabel('bedrooms')\n",
    "plt.ylabel('Price')\n",
    "plt.show()"
   ]
  },
  {
   "cell_type": "markdown",
   "metadata": {},
   "source": [
    "# Evaluate model performance on clean data"
   ]
  },
  {
   "cell_type": "code",
   "execution_count": null,
   "metadata": {},
   "outputs": [],
   "source": [
    "X_clean = data_no_outliers[['sqft_living','sqft_above','bathrooms','bedrooms' ]]\n",
    "y_clean = data_no_outliers['price']\n",
    "\n",
    "# Initializing the linear regression model\n",
    "model = LinearRegression()\n",
    "\n",
    "# Train the model\n",
    "model.fit(X_clean, y_clean)"
   ]
  },
  {
   "cell_type": "markdown",
   "metadata": {},
   "source": [
    "# Get user input for each feature"
   ]
  },
  {
   "cell_type": "code",
   "execution_count": null,
   "metadata": {},
   "outputs": [],
   "source": [
    "\n",
    "sqft_living = float(input(\"Enter square footage of living area: \"))\n",
    "sqft_above = float(input(\"Enter square footage of above ground area: \"))\n",
    "bathrooms = float(input(\"Enter number of bathrooms: \"))\n",
    "bedrooms = float(input(\"Enter number of bedrooms: \"))\n",
    "\n",
    "# Combine the inputs into an array\n",
    "user_input = np.array([[sqft_living, sqft_above, bathrooms, bedrooms]])\n",
    "\n",
    "# Predict the price based on user input\n",
    "predicted_price = model.predict(user_input)\n",
    "\n",
    "# Display the predicted price\n",
    "print(f\"The predicted price for the given inputs is: RS={predicted_price[0]:,.2f}\")"
   ]
  }
 ],
 "metadata": {
  "kernelspec": {
   "display_name": "Python 3.7.7 64-bit",
   "language": "python",
   "name": "python3"
  },
  "language_info": {
   "codemirror_mode": {
    "name": "ipython",
    "version": 3
   },
   "file_extension": ".py",
   "mimetype": "text/x-python",
   "name": "python",
   "nbconvert_exporter": "python",
   "pygments_lexer": "ipython3",
   "version": "3.7.7"
  },
  "orig_nbformat": 4,
  "vscode": {
   "interpreter": {
    "hash": "6d6c50ab20b3497d0cf2c30a0b0d7fdc8540af7736d6a4e3e8d450bf51746730"
   }
  }
 },
 "nbformat": 4,
 "nbformat_minor": 2
}
